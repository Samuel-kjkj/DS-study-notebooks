{
  "nbformat": 4,
  "nbformat_minor": 0,
  "metadata": {
    "colab": {
      "provenance": [],
      "authorship_tag": "ABX9TyMx7VL1qvgXtehAlqOz34Pq",
      "include_colab_link": true
    },
    "kernelspec": {
      "name": "python3",
      "display_name": "Python 3"
    },
    "language_info": {
      "name": "python"
    }
  },
  "cells": [
    {
      "cell_type": "markdown",
      "metadata": {
        "id": "view-in-github",
        "colab_type": "text"
      },
      "source": [
        "<a href=\"https://colab.research.google.com/github/Samuel-kjkj/DS-study-notebooks/blob/main/Tuples.ipynb\" target=\"_parent\"><img src=\"https://colab.research.google.com/assets/colab-badge.svg\" alt=\"Open In Colab\"/></a>"
      ]
    },
    {
      "cell_type": "markdown",
      "source": [
        "# Creating a Tuple"
      ],
      "metadata": {
        "id": "6GR7N2DIHFUE"
      }
    },
    {
      "cell_type": "code",
      "execution_count": 2,
      "metadata": {
        "colab": {
          "base_uri": "https://localhost:8080/"
        },
        "id": "ZDccI32QGuI6",
        "outputId": "69337e44-d529-4ec5-8a80-d6ff43453220"
      },
      "outputs": [
        {
          "output_type": "stream",
          "name": "stdout",
          "text": [
            "('yellow anaconda', 'black mamba', 30.5, 20)\n",
            "<class 'tuple'>\n"
          ]
        }
      ],
      "source": [
        "animal_tuple=(\"yellow anaconda\", \"black mamba\", 30.5, 20)\n",
        "\n",
        "#tuple constructor\n",
        "\n",
        "animal_tuple=(\"yellow anaconda\", \"black mamba\", 30.5, 20)\n",
        "\n",
        "animal_tuple_type = type(animal_tuple)\n",
        "\n",
        "print(animal_tuple)\n",
        "print(animal_tuple_type)"
      ]
    },
    {
      "cell_type": "markdown",
      "source": [
        "# Tuple indexing"
      ],
      "metadata": {
        "id": "Sw9rZX2FIJ6l"
      }
    },
    {
      "cell_type": "code",
      "source": [
        "second_index = animal_tuple.index(\"black mamba\")\n",
        "print(second_index)\n",
        "\n",
        "third_item = animal_tuple[2]\n",
        "print(third_item)"
      ],
      "metadata": {
        "colab": {
          "base_uri": "https://localhost:8080/"
        },
        "id": "0nPOYm66IYxJ",
        "outputId": "768fafb2-587e-4a29-cb79-c07b1c8dc83a"
      },
      "execution_count": 5,
      "outputs": [
        {
          "output_type": "stream",
          "name": "stdout",
          "text": [
            "1\n",
            "30.5\n"
          ]
        }
      ]
    },
    {
      "cell_type": "markdown",
      "source": [
        "# Slicing\n",
        "We use slicing when we wish to return a portion of a tuple instead of just a single value.\n",
        "\n",
        "Syntax: tuple[start:end]\n",
        "\n"
      ],
      "metadata": {
        "id": "lPyK6GSqJFza"
      }
    },
    {
      "cell_type": "code",
      "source": [
        "sliced_tuple = animal_tuple[0:4]\n",
        "print(sliced_tuple)"
      ],
      "metadata": {
        "colab": {
          "base_uri": "https://localhost:8080/"
        },
        "id": "gU7BiapvJJqk",
        "outputId": "1b701acc-c2ec-415f-b27b-96011ad3973c"
      },
      "execution_count": 9,
      "outputs": [
        {
          "output_type": "stream",
          "name": "stdout",
          "text": [
            "('yellow anaconda', 'black mamba', 30.5, 20)\n"
          ]
        }
      ]
    },
    {
      "cell_type": "markdown",
      "source": [
        "# Modification\n",
        "\n",
        "so basically tuples are immutable\n"
      ],
      "metadata": {
        "id": "lPfMgSD_KSQ0"
      }
    },
    {
      "cell_type": "code",
      "source": [
        "animal_tuple[0]=\"lion\"\n",
        "print(animal_tuple)"
      ],
      "metadata": {
        "id": "51XhnFVVKRPZ",
        "outputId": "4d6b01e1-c8ab-4f7b-bf93-cfe03eceab80",
        "colab": {
          "base_uri": "https://localhost:8080/",
          "height": 193
        }
      },
      "execution_count": 12,
      "outputs": [
        {
          "output_type": "error",
          "ename": "TypeError",
          "evalue": "'tuple' object does not support item assignment",
          "traceback": [
            "\u001b[0;31m---------------------------------------------------------------------------\u001b[0m",
            "\u001b[0;31mTypeError\u001b[0m                                 Traceback (most recent call last)",
            "\u001b[0;32m<ipython-input-12-49494918eae8>\u001b[0m in \u001b[0;36m<cell line: 1>\u001b[0;34m()\u001b[0m\n\u001b[0;32m----> 1\u001b[0;31m \u001b[0manimal_tuple\u001b[0m\u001b[0;34m[\u001b[0m\u001b[0;36m0\u001b[0m\u001b[0;34m]\u001b[0m\u001b[0;34m=\u001b[0m\u001b[0;34m\"lion\"\u001b[0m\u001b[0;34m\u001b[0m\u001b[0;34m\u001b[0m\u001b[0m\n\u001b[0m\u001b[1;32m      2\u001b[0m \u001b[0mprint\u001b[0m\u001b[0;34m(\u001b[0m\u001b[0manimal_tuple\u001b[0m\u001b[0;34m)\u001b[0m\u001b[0;34m\u001b[0m\u001b[0;34m\u001b[0m\u001b[0m\n",
            "\u001b[0;31mTypeError\u001b[0m: 'tuple' object does not support item assignment"
          ]
        }
      ]
    },
    {
      "cell_type": "markdown",
      "source": [
        "# Concatenation\n",
        "\n",
        "so basically if you want to modify a tuple it is better to create a new one and concatenate the one you want to modify with new data in the form od a tuple"
      ],
      "metadata": {
        "id": "xfuVnpkKLgTf"
      }
    },
    {
      "cell_type": "code",
      "source": [
        "animal_tuple_new = animal_tuple + (\"lion\", False)\n",
        "print(animal_tuple_new)"
      ],
      "metadata": {
        "id": "T-y4TZ4hK1wU",
        "outputId": "76461783-ae67-43f1-e9b9-0b66f038033e",
        "colab": {
          "base_uri": "https://localhost:8080/"
        }
      },
      "execution_count": 19,
      "outputs": [
        {
          "output_type": "stream",
          "name": "stdout",
          "text": [
            "('yellow anaconda', 'black mamba', 30.5, 20, 'lion', False)\n"
          ]
        }
      ]
    },
    {
      "cell_type": "markdown",
      "source": [
        "# duplicates\n",
        "\n",
        "so basically because tuples are ordered it allows duplicate data items. they can be differemtiated wiith their indexes"
      ],
      "metadata": {
        "id": "k6HPJ4moLz7w"
      }
    },
    {
      "cell_type": "code",
      "source": [
        "animal_tuple_new = animal_tuple_new + (False,)\n",
        "print(animal_tuple_new)"
      ],
      "metadata": {
        "id": "qLGixCAAMDUO",
        "outputId": "aeccb953-41af-46bd-cd6e-5de6c83639fd",
        "colab": {
          "base_uri": "https://localhost:8080/"
        }
      },
      "execution_count": 17,
      "outputs": [
        {
          "output_type": "stream",
          "name": "stdout",
          "text": [
            "('yellow anaconda', 'black mamba', 30.5, 20, 'lion', False, False)\n"
          ]
        }
      ]
    },
    {
      "cell_type": "markdown",
      "source": [
        "# len( )"
      ],
      "metadata": {
        "id": "zi9fUBEtMr7s"
      }
    },
    {
      "cell_type": "code",
      "source": [
        "# Return the number of elements in animal_tuple_new\n",
        "length_of_tuple = len(animal_tuple_new)\n",
        "print(f\"No. of attributes: {length_of_tuple}\")"
      ],
      "metadata": {
        "id": "sW2aY6uWMu_t",
        "outputId": "54a4a78b-347a-4499-95ad-8d9c2588fdbf",
        "colab": {
          "base_uri": "https://localhost:8080/"
        }
      },
      "execution_count": 21,
      "outputs": [
        {
          "output_type": "stream",
          "name": "stdout",
          "text": [
            "No. of attributes: 6\n"
          ]
        }
      ]
    },
    {
      "cell_type": "markdown",
      "source": [
        "# count( )"
      ],
      "metadata": {
        "id": "hxm3nxqQMzVP"
      }
    },
    {
      "cell_type": "code",
      "source": [
        "# Count the occurrence of the value False in animal_tuple_new\n",
        "count_false = animal_tuple_new.count(False)\n",
        "print(count_false)"
      ],
      "metadata": {
        "id": "tV_eXePoM2PM",
        "outputId": "b05fdcf1-8468-4be9-94cd-c8916b7f25a5",
        "colab": {
          "base_uri": "https://localhost:8080/"
        }
      },
      "execution_count": 24,
      "outputs": [
        {
          "output_type": "stream",
          "name": "stdout",
          "text": [
            "0\n"
          ]
        }
      ]
    },
    {
      "cell_type": "markdown",
      "source": [
        "# tuple unpacking"
      ],
      "metadata": {
        "id": "ViH1m1TtNLlW"
      }
    },
    {
      "cell_type": "code",
      "source": [
        "# Assign each element in animal_tuple to individual variables\n",
        "animal_tuple = (\"Yellow anaconda\", \"Reptile\", 30.5, 20)\n",
        "\n",
        "name, group, av_weight, av_lifespan = animal_tuple\n",
        "print(f\"Name: {name}\")\n",
        "print(f\"Group: {group}\")"
      ],
      "metadata": {
        "id": "4JFy3zq6MlP_",
        "outputId": "78ab9017-73cf-4fe9-bb85-91613e99b61a",
        "colab": {
          "base_uri": "https://localhost:8080/"
        }
      },
      "execution_count": 20,
      "outputs": [
        {
          "output_type": "stream",
          "name": "stdout",
          "text": [
            "Name: Yellow anaconda\n",
            "Group: Reptile\n"
          ]
        }
      ]
    }
  ]
}