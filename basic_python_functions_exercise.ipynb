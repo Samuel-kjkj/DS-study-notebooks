{
  "cells": [
    {
      "cell_type": "markdown",
      "metadata": {
        "id": "view-in-github",
        "colab_type": "text"
      },
      "source": [
        "<a href=\"https://colab.research.google.com/github/Samuel-kjkj/DS-study-notebooks/blob/main/basic_python_functions_exercise.ipynb\" target=\"_parent\"><img src=\"https://colab.research.google.com/assets/colab-badge.svg\" alt=\"Open In Colab\"/></a>"
      ]
    },
    {
      "cell_type": "markdown",
      "metadata": {
        "id": "fg-vwiv3jBeK"
      },
      "source": [
        "<div align=\"center\" style=\" font-size: 80%; text-align: center; margin: 0 auto\">\n",
        "<img src=\"https://raw.githubusercontent.com/Explore-AI/Pictures/master/Python-Notebook-Banners/Exercise.png\"  style=\"display: block; margin-left: auto; margin-right: auto;\";/>\n",
        "</div>"
      ],
      "id": "fg-vwiv3jBeK"
    },
    {
      "cell_type": "markdown",
      "id": "f662d169",
      "metadata": {
        "id": "f662d169"
      },
      "source": [
        "# Exercise: Basic Python functions\n",
        "© ExploreAI Academy"
      ]
    },
    {
      "cell_type": "markdown",
      "id": "26af890c",
      "metadata": {
        "id": "26af890c"
      },
      "source": [
        "In this exercise, we will explore the fundamental concepts of Python functions and how they can be used in practice. We will be led through hands-on coding exercises that will emphasise basic concepts related to building simple functions and utilising built-in functions."
      ]
    },
    {
      "cell_type": "markdown",
      "id": "2d230d14",
      "metadata": {
        "tags": [],
        "id": "2d230d14"
      },
      "source": [
        "## Learning objectives\n",
        "\n",
        "By the end of this exercise, you should be able to:\n",
        "- Understand how to use basic built-in functions.\n",
        "- Create user-defined functions based on specific needs."
      ]
    },
    {
      "cell_type": "markdown",
      "metadata": {
        "id": "JYpdCPsmjBe8"
      },
      "source": [
        "## Exercises"
      ],
      "id": "JYpdCPsmjBe8"
    },
    {
      "cell_type": "markdown",
      "id": "5a0b7683",
      "metadata": {
        "tags": [],
        "id": "5a0b7683"
      },
      "source": [
        "### Exercise 1\n",
        "\n",
        "Given a list of deforested land in hectares over five years, calculate the total carbon emission over the years using built-in functions.\n",
        "\n",
        " Total carbon emissions are calculated by adding the hectares of deforested land and multiplying the total by a given carbon emissions factor of 40.\n",
        "\n",
        " Hint:\n",
        " * Create a variable called `total_deforested_land`, the result of adding the hectares of the deforested land using the `sum` function.\n",
        " * Create a variable called `total_carbon_emission`, the result of multiplying the `total_deforested_land` variable with the carbon emissions factor."
      ]
    },
    {
      "cell_type": "code",
      "execution_count": 4,
      "id": "788218d7",
      "metadata": {
        "colab": {
          "base_uri": "https://localhost:8080/"
        },
        "id": "788218d7",
        "outputId": "87f167b7-e66b-4d1e-ea63-6abcf1f1f918"
      },
      "outputs": [
        {
          "output_type": "stream",
          "name": "stdout",
          "text": [
            "2600\n"
          ]
        }
      ],
      "source": [
        "# Deforested land for each year\n",
        "deforested_land = [10, 15, 8, 12, 20]\n",
        "\n",
        "# Carbon emission factor (tons of CO2 per hectare)\n",
        "carbon_emission_factor = 40\n",
        "\n",
        "# Your code here...\n",
        "total_deforested_land = sum(deforested_land)\n",
        "total_carbon_emission = total_deforested_land * carbon_emission_factor"
      ]
    },
    {
      "cell_type": "markdown",
      "id": "fd52109b",
      "metadata": {
        "id": "fd52109b"
      },
      "source": [
        "Print the `total_deforested_land` and `total_carbon_emission` variables."
      ]
    },
    {
      "cell_type": "code",
      "execution_count": 5,
      "metadata": {
        "colab": {
          "base_uri": "https://localhost:8080/"
        },
        "id": "6pkr5tSwjBfE",
        "outputId": "6ce2d12e-8f23-4934-b78e-89254feca5ce"
      },
      "outputs": [
        {
          "output_type": "stream",
          "name": "stdout",
          "text": [
            "65\n",
            "2600\n"
          ]
        }
      ],
      "source": [
        "# Your code here...\n",
        "print(total_deforested_land)\n",
        "print(total_carbon_emission)"
      ],
      "id": "6pkr5tSwjBfE"
    },
    {
      "cell_type": "markdown",
      "metadata": {
        "id": "BYokogCTjBfF"
      },
      "source": [
        "### Exercise 2\n",
        "\n",
        "Create a function named `acres_to_hectares` that accepts a parameter of the area of a forest in acres and returns the corresponding area in hectares by multiplying the acres by a conversion rate of 0.404686.\n",
        "\n",
        "Remember to include the doc strings of the function."
      ],
      "id": "BYokogCTjBfF"
    },
    {
      "cell_type": "code",
      "execution_count": 8,
      "metadata": {
        "id": "uL1Erzt-jBfH"
      },
      "outputs": [],
      "source": [
        "# Your code here...\n",
        "def acres_to_hectares (area):\n",
        "  area_in_hectares = area * 0.404686\n",
        "  return area_in_hectares"
      ],
      "id": "uL1Erzt-jBfH"
    },
    {
      "cell_type": "markdown",
      "id": "8bcc8c85",
      "metadata": {
        "id": "8bcc8c85"
      },
      "source": [
        "Use the function above to convert a forest area of 50 acres to hectares."
      ]
    },
    {
      "cell_type": "code",
      "execution_count": 9,
      "id": "4d81db66",
      "metadata": {
        "colab": {
          "base_uri": "https://localhost:8080/"
        },
        "id": "4d81db66",
        "outputId": "65650d01-e6fa-4f1d-a4d4-782e654bc8a8"
      },
      "outputs": [
        {
          "output_type": "execute_result",
          "data": {
            "text/plain": [
              "20.2343"
            ]
          },
          "metadata": {},
          "execution_count": 9
        }
      ],
      "source": [
        "# Your code here...\n",
        "acres_to_hectares(50)"
      ]
    },
    {
      "cell_type": "markdown",
      "id": "808a6af5",
      "metadata": {
        "id": "808a6af5"
      },
      "source": [
        "### Exercise 3\n",
        "\n",
        "Using the data representing the deforested land in hectares over the years, calculate and print the average deforested land using the `sum` and `len` built-in functions.\n",
        "\n",
        "Hint:\n",
        "* Create a variable called `average_deforested_land` by adding the hectares of the deforested land together using the `sum` function and then dividing it by the number of values in the list, which can be derived using the `len` function."
      ]
    },
    {
      "cell_type": "code",
      "execution_count": 10,
      "id": "65e9830a",
      "metadata": {
        "id": "65e9830a"
      },
      "outputs": [],
      "source": [
        "# Deforested land for each year\n",
        "deforested_land = [10, 15, 8, 12, 20]\n",
        "\n",
        "# Your code here\n",
        "average_deforested_land = sum(deforested_land) / len(deforested_land)"
      ]
    },
    {
      "cell_type": "markdown",
      "id": "5b3591ba",
      "metadata": {
        "id": "5b3591ba"
      },
      "source": [
        "Print the `average_deforested_land` variable."
      ]
    },
    {
      "cell_type": "code",
      "execution_count": 15,
      "id": "7fccb10e",
      "metadata": {
        "colab": {
          "base_uri": "https://localhost:8080/"
        },
        "id": "7fccb10e",
        "outputId": "329d9c30-8845-4b8f-bc7e-e5150fe921af"
      },
      "outputs": [
        {
          "output_type": "stream",
          "name": "stdout",
          "text": [
            "13.0\n"
          ]
        },
        {
          "output_type": "execute_result",
          "data": {
            "text/plain": [
              "5"
            ]
          },
          "metadata": {},
          "execution_count": 15
        }
      ],
      "source": [
        "# Your code here...\n",
        "print(average_deforested_land)\n",
        "sum(deforested_land)\n",
        "len(deforested_land)"
      ]
    },
    {
      "cell_type": "markdown",
      "metadata": {
        "id": "kgp-u0c8jBfR"
      },
      "source": [
        "## Solutions"
      ],
      "id": "kgp-u0c8jBfR"
    },
    {
      "cell_type": "markdown",
      "metadata": {
        "id": "_M3zx04TjBfS"
      },
      "source": [
        "### Exercise 1"
      ],
      "id": "_M3zx04TjBfS"
    },
    {
      "cell_type": "code",
      "execution_count": null,
      "metadata": {
        "id": "7dH99cnkjBfU"
      },
      "outputs": [],
      "source": [
        "# Deforested land for each year\n",
        "deforested_land = [10, 15, 8, 12, 20]\n",
        "\n",
        "# Carbon emission factor (tons of CO2 per hectare)\n",
        "carbon_emission_factor = 40\n",
        "\n",
        "# Calculate the total carbon emission using built-in functions\n",
        "total_deforested_land = sum(deforested_land)\n",
        "total_carbon_emission = total_deforested_land * carbon_emission_factor"
      ],
      "id": "7dH99cnkjBfU"
    },
    {
      "cell_type": "code",
      "execution_count": null,
      "id": "c2c26fbb",
      "metadata": {
        "id": "c2c26fbb"
      },
      "outputs": [],
      "source": [
        "print(total_deforested_land)\n",
        "print(total_carbon_emission)"
      ]
    },
    {
      "cell_type": "markdown",
      "metadata": {
        "id": "pGVVJtE3jBfX"
      },
      "source": [
        "The `sum()` function is used to calculate the total deforested land, which is then multiplied by the carbon emission factor to obtain the total carbon emission. Each of these calculations is placed in a variable, which we can print to view its value."
      ],
      "id": "pGVVJtE3jBfX"
    },
    {
      "cell_type": "markdown",
      "metadata": {
        "id": "jWrPGV5ajBfX"
      },
      "source": [
        "### Exercise 2\n"
      ],
      "id": "jWrPGV5ajBfX"
    },
    {
      "cell_type": "code",
      "execution_count": null,
      "metadata": {
        "id": "PQyTa3xtjBfY"
      },
      "outputs": [],
      "source": [
        "def acres_to_hectares(acres):\n",
        "    \"\"\"\n",
        "    Convert acres to hectares.\n",
        "\n",
        "    Parameters:\n",
        "    - acres (float): The area in acres.\n",
        "\n",
        "    Returns:\n",
        "    - float: The equivalent area in hectares.\n",
        "    \"\"\"\n",
        "    hectares = acres * 0.404686\n",
        "    return hectares"
      ],
      "id": "PQyTa3xtjBfY"
    },
    {
      "cell_type": "code",
      "execution_count": null,
      "id": "cf109f4c",
      "metadata": {
        "id": "cf109f4c"
      },
      "outputs": [],
      "source": [
        "print(acres_to_hectares(50))"
      ]
    },
    {
      "cell_type": "markdown",
      "metadata": {
        "id": "BNQUG8xbjBfa"
      },
      "source": [
        "A function named `acres_to_hectares` is defined to convert an area from acres to hectares. The function takes the number of acres as a parameter, multiplies it by the conversion factor (1 acre = 0.404686 hectares), and returns the equivalent area in hectares. The conversion function is then used to convert an area of 50 acres to hectares, and the result is printed."
      ],
      "id": "BNQUG8xbjBfa"
    },
    {
      "cell_type": "markdown",
      "id": "2349af35",
      "metadata": {
        "id": "2349af35"
      },
      "source": [
        "### Exercise 3"
      ]
    },
    {
      "cell_type": "code",
      "execution_count": 16,
      "id": "2336b058",
      "metadata": {
        "id": "2336b058"
      },
      "outputs": [],
      "source": [
        "# Deforested land for different regions\n",
        "deforested_land = [25, 30, 20, 15, 18]\n",
        "\n",
        "# Calculate the average deforested area using built-in functions\n",
        "average_deforested_land = sum(deforested_land) / len(deforested_land)"
      ]
    },
    {
      "cell_type": "code",
      "execution_count": 17,
      "id": "7c8d54ab",
      "metadata": {
        "colab": {
          "base_uri": "https://localhost:8080/"
        },
        "id": "7c8d54ab",
        "outputId": "a8135755-431f-45e5-b062-d0bed7a6858c"
      },
      "outputs": [
        {
          "output_type": "stream",
          "name": "stdout",
          "text": [
            "21.6\n"
          ]
        }
      ],
      "source": [
        "print(average_deforested_land)"
      ]
    },
    {
      "cell_type": "markdown",
      "id": "26fd094b-0fee-46f1-a4b8-73766813c42b",
      "metadata": {
        "tags": [],
        "id": "26fd094b-0fee-46f1-a4b8-73766813c42b"
      },
      "source": [
        "#  \n",
        "\n",
        "<div align=\"center\" style=\" font-size: 80%; text-align: center; margin: 0 auto\">\n",
        "<img src=\"https://raw.githubusercontent.com/Explore-AI/Pictures/master/ExploreAI_logos/EAI_Blue_Dark.png\"  style=\"width:200px\";/>\n",
        "</div>"
      ]
    }
  ],
  "metadata": {
    "kernelspec": {
      "display_name": "Python 3 (ipykernel)",
      "language": "python",
      "name": "python3"
    },
    "language_info": {
      "codemirror_mode": {
        "name": "ipython",
        "version": 3
      },
      "file_extension": ".py",
      "mimetype": "text/x-python",
      "name": "python",
      "nbconvert_exporter": "python",
      "pygments_lexer": "ipython3",
      "version": "3.11.4"
    },
    "colab": {
      "provenance": [],
      "include_colab_link": true
    }
  },
  "nbformat": 4,
  "nbformat_minor": 5
}