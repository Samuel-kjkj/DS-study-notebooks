{
  "nbformat": 4,
  "nbformat_minor": 0,
  "metadata": {
    "colab": {
      "provenance": [],
      "authorship_tag": "ABX9TyMGP58V402bhntWMlCSXhEe",
      "include_colab_link": true
    },
    "kernelspec": {
      "name": "python3",
      "display_name": "Python 3"
    },
    "language_info": {
      "name": "python"
    }
  },
  "cells": [
    {
      "cell_type": "markdown",
      "metadata": {
        "id": "view-in-github",
        "colab_type": "text"
      },
      "source": [
        "<a href=\"https://colab.research.google.com/github/Samuel-kjkj/DS-study-notebooks/blob/main/Data_types_and__operands.ipynb\" target=\"_parent\"><img src=\"https://colab.research.google.com/assets/colab-badge.svg\" alt=\"Open In Colab\"/></a>"
      ]
    },
    {
      "cell_type": "code",
      "execution_count": null,
      "metadata": {
        "colab": {
          "base_uri": "https://localhost:8080/"
        },
        "id": "mQIwhJEEOhTl",
        "outputId": "64281b0a-6df9-4f33-b9ee-392d98b93d2d"
      },
      "outputs": [
        {
          "output_type": "stream",
          "name": "stdout",
          "text": [
            "[22, 8, 2.142857142857143, 105]\n"
          ]
        }
      ],
      "source": [
        "#number declaration\n",
        "num1 = 15\n",
        "num2 = 7\n",
        "\n",
        "# operations on values\n",
        "sum = num1 + num2\n",
        "difference = num1 - num2\n",
        "ratio = num1 / num2\n",
        "product = num1 * num2\n",
        "\n",
        "arithmetic_array = [sum, difference, ratio, product]\n",
        "\n",
        "\n",
        "print(arithmetic_array)"
      ]
    },
    {
      "cell_type": "code",
      "source": [
        "first_name = \"kwasi\"\n",
        "last_name = \"acquatey\"\n",
        "\n",
        "full_name = (first_name.capitalize() + \" \" + last_name.capitalize())\n",
        "\n",
        "print(full_name)"
      ],
      "metadata": {
        "colab": {
          "base_uri": "https://localhost:8080/"
        },
        "id": "5_SHoCfNQIua",
        "outputId": "ede8d4e9-b571-4182-ca42-25cbb319de12"
      },
      "execution_count": null,
      "outputs": [
        {
          "output_type": "stream",
          "name": "stdout",
          "text": [
            "Kwasi Acquatey\n"
          ]
        }
      ]
    },
    {
      "cell_type": "code",
      "source": [
        "Name= \"John Doe\"\n",
        "Age= 25\n",
        "Height= 1.75\n",
        "Weight= 68.5\n",
        "\n",
        "#computing the body mass index\n",
        "BMI = Weight/(Height)**2\n",
        "\n",
        "patient_info = [Name, Age, Height, Weight, BMI]\n",
        "\n",
        "#printing patient info\n",
        "print(patient_info)\n"
      ],
      "metadata": {
        "colab": {
          "base_uri": "https://localhost:8080/"
        },
        "id": "4GtGeiwHQ2KL",
        "outputId": "9aa6c1e6-5904-455d-9511-2f286b283ad6"
      },
      "execution_count": null,
      "outputs": [
        {
          "output_type": "stream",
          "name": "stdout",
          "text": [
            "['John Doe', 25, 1.75, 68.5, 22.367346938775512]\n"
          ]
        }
      ]
    },
    {
      "cell_type": "code",
      "source": [
        "product_name = \"baby diapers\"\n",
        "init_qnt_stock = int(150)\n",
        "price_per_unit = float(22.50)\n",
        "discount_percentage = (0.07)\n",
        "\n",
        "total_value_init_stock = init_qnt_stock * price_per_unit\n",
        "total_discount_value = total_value_init_stock * discount_percentage\n",
        "\n",
        "new_stock = int(50)\n",
        "updated_quantity_stock = init_qnt_stock + new_stock\n",
        "\n"
      ],
      "metadata": {
        "id": "RO1r638LT6mO"
      },
      "execution_count": null,
      "outputs": []
    }
  ]
}