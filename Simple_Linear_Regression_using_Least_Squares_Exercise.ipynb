{
  "cells": [
    {
      "cell_type": "markdown",
      "metadata": {
        "id": "view-in-github",
        "colab_type": "text"
      },
      "source": [
        "<a href=\"https://colab.research.google.com/github/Samuel-kjkj/DS-study-notebooks/blob/main/Simple_Linear_Regression_using_Least_Squares_Exercise.ipynb\" target=\"_parent\"><img src=\"https://colab.research.google.com/assets/colab-badge.svg\" alt=\"Open In Colab\"/></a>"
      ]
    },
    {
      "cell_type": "markdown",
      "id": "cd88ea27",
      "metadata": {
        "id": "cd88ea27"
      },
      "source": [
        "<div align=\"center\" style=\" font-size: 80%; text-align: center; margin: 0 auto\">\n",
        "<img src=\"https://raw.githubusercontent.com/Explore-AI/Pictures/master/Python-Notebook-Banners/Exercise.png\"  style=\"display: block; margin-left: auto; margin-right: auto;\";/>\n",
        "</div>"
      ]
    },
    {
      "cell_type": "markdown",
      "id": "f662d169",
      "metadata": {
        "id": "f662d169"
      },
      "source": [
        "# Exercise: Simple linear regression using least squares\n",
        "© ExploreAI Academy"
      ]
    },
    {
      "cell_type": "markdown",
      "id": "26af890c",
      "metadata": {
        "id": "26af890c"
      },
      "source": [
        "In this exercise, we create linear regression models, evaluate the fit of the model, and make predictions.\n"
      ]
    },
    {
      "cell_type": "markdown",
      "id": "2d230d14",
      "metadata": {
        "tags": [],
        "id": "2d230d14"
      },
      "source": [
        "## Learning objectives\n",
        "\n",
        "By the end of this train, we will:\n",
        "- Know how to develop linear regression models in Python and make predictions.\n",
        "- Know how to assess the performance of a linear regression model."
      ]
    },
    {
      "cell_type": "markdown",
      "id": "de45a481",
      "metadata": {
        "id": "de45a481"
      },
      "source": [
        "## Exercises"
      ]
    },
    {
      "cell_type": "code",
      "source": [
        "import numpy as np\n",
        "import matplotlib.pyplot as plt\n",
        "from sklearn.linear_model import LinearRegression\n",
        "from sklearn.metrics import mean_squared_error"
      ],
      "metadata": {
        "id": "nueNwegs3bMf"
      },
      "id": "nueNwegs3bMf",
      "execution_count": 32,
      "outputs": []
    },
    {
      "cell_type": "markdown",
      "id": "5a0b7683",
      "metadata": {
        "tags": [],
        "id": "5a0b7683"
      },
      "source": [
        "### Exercise 1\n",
        "\n",
        "An environmental research group is examining how the average temperature of a day (in degrees Celsius) affects the energy output of solar panels (kWh produced). Your task is to visualise this relationship to determine if linear regression would be a suitable model.\n",
        "\n",
        "1. Create two NumPy arrays named `average_temperature` and `solar_output` with the provided data.\n",
        "2. Use `matplotlib` to create a scatter plot of average temperature (X-axis) against solar panel output (Y-axis).\n",
        "3. Title your plot as \"`Average temperature vs. Solar panel output`\" and label the axes appropriately.\n",
        "4. Based on the visualisation, assess whether linear regression is a suitable model for the data.\n"
      ]
    },
    {
      "cell_type": "code",
      "execution_count": 9,
      "id": "c2ee76ec",
      "metadata": {
        "colab": {
          "base_uri": "https://localhost:8080/",
          "height": 472
        },
        "id": "c2ee76ec",
        "outputId": "a2e13a44-239b-4cac-e952-0d2956ca1ec2"
      },
      "outputs": [
        {
          "output_type": "display_data",
          "data": {
            "text/plain": [
              "<Figure size 640x480 with 1 Axes>"
            ],
            "image/png": "[encoded data removed]"
          },
          "metadata": {}
        }
      ],
      "source": [
        "average_temperature = [5, 8, 11, 13, 18, 24, 24, 28, 32, 36]\n",
        "solar_output = [2.2, 1.8, 2.5, 3.0, 4.5, 5.3, 5.8, 4.2, 2.5, 4.0]\n",
        "\n",
        "# insert code here\n",
        "average_temperature = np.array([5, 8, 11, 13, 18, 24, 24, 28, 32, 36])\n",
        "solar_output = np.array([2.2, 1.8, 2.5, 3.0, 4.5, 5.3, 5.8, 4.2, 2.5, 4.0])\n",
        "\n",
        "plt.scatter(average_temperature, solar_output)\n",
        "plt.title('Average temperature vs. Solar panel output')\n",
        "plt.xlabel('Average Temperature')\n",
        "plt.ylabel('Solar Output')\n",
        "plt.show()"
      ]
    },
    {
      "cell_type": "markdown",
      "id": "dc9b7dc6",
      "metadata": {
        "id": "dc9b7dc6"
      },
      "source": [
        "### Exercise 2\n",
        "\n",
        "The agricultural department is interested in predicting crop yield based on annual rainfall. You are tasked with creating a predictive model using simple linear regression.\n",
        "\n",
        "1. Convert the provided lists into `NumPy` arrays named `annual_rainfall` and `agricultural_yield`.\n",
        "2. Fit a simple linear regression model using sklearn's `LinearRegression`.\n",
        "3. Predict the agricultural yield for a year with `1150` mm of annual rainfall.\n",
        "4. Print the predicted yield."
      ]
    },
    {
      "cell_type": "code",
      "execution_count": 15,
      "id": "ae48fab0",
      "metadata": {
        "colab": {
          "base_uri": "https://localhost:8080/"
        },
        "id": "ae48fab0",
        "outputId": "59e0ca36-51f6-4cf5-b1d5-956bab912617"
      },
      "outputs": [
        {
          "output_type": "stream",
          "name": "stdout",
          "text": [
            "The predicted agricultural yield for an annual rainfall of 1150 mm is [4.45426439]\n"
          ]
        }
      ],
      "source": [
        "annual_rainfall = [800, 1200, 1000, 1500, 1100, 1300, 900, 1400, 950, 1250]\n",
        "agricultural_yield = [3.2, 4.8, 4.0, 5.5, 4.2, 5.0, 3.5, 5.3, 3.8, 4.9]\n",
        "\n",
        "# insert code here\n",
        "annual_rainfall = np.array([800, 1200, 1000, 1500, 1100, 1300, 900, 1400, 950, 1250])\n",
        "agricultural_yield = np.array([3.2, 4.8, 4.0, 5.5, 4.2, 5.0, 3.5, 5.3, 3.8, 4.9])\n",
        "\n",
        "#reshaping the array to a 2d array as required by sklearn\n",
        "annual_rainfall_2d = annual_rainfall.reshape(-1, 1)\n",
        "\n",
        "#create and fit the linear regression model\n",
        "model = LinearRegression()\n",
        "model.fit(annual_rainfall_2d, agricultural_yield)\n",
        "\n",
        "#predicting the agricultural yield\n",
        "model_prediction = model.predict([[1150]])\n",
        "\n",
        "print(\"The predicted agricultural yield for an annual rainfall of 1150 mm is\", model_prediction)"
      ]
    },
    {
      "cell_type": "markdown",
      "metadata": {
        "id": "Xab3Erji09zj"
      },
      "source": [
        "### Exercise 3\n",
        "\n",
        "A city's environmental protection agency has collected data on daily traffic volume and air pollution levels. Your task is to evaluate the performance of a linear regression model that predicts air pollution levels from traffic volume.\n",
        "\n",
        "1. Use the provided data to fit a simple linear regression model with `traffic_volume` as the independent variable and `pollution_levels` as the dependent variable.\n",
        "2. Calculate the mean squared error (MSE) and R-squared value of your model.\n",
        "3. Print the MSE and R-squared value, interpreting what they indicate about your model's performance.\n"
      ],
      "id": "Xab3Erji09zj"
    },
    {
      "cell_type": "code",
      "execution_count": 35,
      "metadata": {
        "colab": {
          "base_uri": "https://localhost:8080/",
          "height": 572
        },
        "id": "vIJbL78O09zk",
        "outputId": "790fa3ff-a598-4ff2-f52c-1dba262248d6"
      },
      "outputs": [
        {
          "output_type": "display_data",
          "data": {
            "text/plain": [
              "<Figure size 640x480 with 1 Axes>"
            ],
            "image/png": "[encoded data removed]"
          },
          "metadata": {}
        },
        {
          "output_type": "stream",
          "name": "stdout",
          "text": [
            "From the visualization created we can conclude that there is a strong positive corrrelation between traffic volume and pollution levels. therefore this is going to be a smooth ride :)\n",
            "Mean Squared Error (MSE): 2.506174142480213\n",
            "R-squared value: 0.9793492572307168\n",
            "\n",
            "Interpretation:\n",
            "The Mean Squared Error (MSE) is a measure of the average squared difference between observed and predicted values. A lower MSE indicates better model performance. MSE: 2.51\n",
            "The R-squared value represents the proportion of the variance in the dependent variable that is predictable from the independent variable. R-squared values range from 0 to 1, with 1 indicating a perfect fit. R-squared: 0.98\n"
          ]
        }
      ],
      "source": [
        "from sklearn.metrics import mean_squared_error, r2_score\n",
        "traffic_volume = [1500, 2500, 2000, 3000, 3500, 1800, 4000, 2200, 2800, 3200]\n",
        "pollution_levels = [35, 50, 45, 60, 65, 38, 70, 48, 55, 62]\n",
        "\n",
        "\n",
        "# creating numpy arrays\n",
        "traffic_volume = np.array([1500, 2500, 2000, 3000, 3500, 1800, 4000, 2200, 2800, 3200])\n",
        "pollution_levels = np.array([35, 50, 45, 60, 65, 38, 70, 48, 55, 62])\n",
        "\n",
        "#visualizing the dataset for investigation\n",
        "plt.scatter(traffic_volume,pollution_levels)\n",
        "plt.show()\n",
        "print(\"From the visualization created we can conclude that there is a strong positive corrrelation between traffic volume and pollution levels. therefore this is going to be a smooth ride :)\")\n",
        "\n",
        "#reshaping the independent variable for sklearn prediction\n",
        "traffic_volume_2d = traffic_volume.reshape(-1, 1)\n",
        "\n",
        "#creating and fitting a linear model to the dataset\n",
        "model = LinearRegression()\n",
        "model.fit(traffic_volume_2d, pollution_levels)\n",
        "\n",
        "#predicting the polution levels\n",
        "predictions = model.predict(traffic_volume_2d)\n",
        "\n",
        "# Calculate Mean Squared Error (MSE)\n",
        "mse = mean_squared_error(pollution_levels, predictions)\n",
        "\n",
        "# Calculate R-squared value\n",
        "r2 = r2_score(pollution_levels, predictions)\n",
        "\n",
        "# Print the results\n",
        "print(\"Mean Squared Error (MSE):\", mse)\n",
        "print(\"R-squared value:\", r2)\n",
        "\n",
        "# Interpretation\n",
        "print(\"\\nInterpretation:\")\n",
        "print(f\"The Mean Squared Error (MSE) is a measure of the average squared difference between observed and predicted values. \"\n",
        "      f\"A lower MSE indicates better model performance. MSE: {mse:.2f}\")\n",
        "\n",
        "print(f\"The R-squared value represents the proportion of the variance in the dependent variable that is predictable \"\n",
        "      f\"from the independent variable. R-squared values range from 0 to 1, with 1 indicating a perfect fit. R-squared: {r2:.2f}\")\n",
        "#Mean Squared Error (MSE):\n",
        "\n",
        "#The MSE value of approximately 2.51 indicates the average squared difference between the actual and predicted pollution levels. Lower MSE values are generally better, and in this case, a value of 2.51 suggests that, on average, your model's predictions are quite close to the actual pollution levels.\n",
        "#R-squared Value:\n",
        "\n",
        "#The R-squared value of approximately 0.98 (97.93%) is very high.\n",
        "# R-squared measures the proportion of the variance in the dependent variable (pollution_levels) that is predictable from the independent variable (traffic_volume).\n",
        "#A value close to 1 indicates that your model explains a large portion of the variability in pollution\n",
        "#levels based on traffic volume. In this case, about 98% of the variance is explained by the\n",
        "#model, suggesting a strong linear relationship between traffic volume and pollution levels"
      ],
      "id": "vIJbL78O09zk"
    },
    {
      "cell_type": "markdown",
      "id": "555dea0d",
      "metadata": {
        "id": "555dea0d"
      },
      "source": [
        "## Solutions"
      ]
    },
    {
      "cell_type": "markdown",
      "id": "9ff8f391",
      "metadata": {
        "id": "9ff8f391"
      },
      "source": [
        "### Exercise 1\n",
        "\n",
        "- The average temperature and solar panel output data are converted into `NumPy` arrays for easy manipulation and plotting.\n",
        "- `plt.scatter` creates a scatter plot with average temperature on the X-axis and solar panel output on the Y-axis.\n",
        "- `plt.xlabel` and `plt.ylabel` label the axes, while `plt.title` adds a title to the plot.\n",
        "- `plt.show()` displays the plot. The scatter plot is a crucial initial step in regression analysis as it helps identify the nature of the relationship between variables."
      ]
    },
    {
      "cell_type": "code",
      "execution_count": 36,
      "id": "ad52ad95",
      "metadata": {
        "colab": {
          "base_uri": "https://localhost:8080/",
          "height": 472
        },
        "id": "ad52ad95",
        "outputId": "1fdeaa40-aa4e-4769-b9d9-e2899344d5c6"
      },
      "outputs": [
        {
          "output_type": "display_data",
          "data": {
            "text/plain": [
              "<Figure size 640x480 with 1 Axes>"
            ],
            "image/png": "[encoded data removed]"
          },
          "metadata": {}
        }
      ],
      "source": [
        "import numpy as np\n",
        "import matplotlib.pyplot as plt\n",
        "\n",
        "# Data arrays\n",
        "average_temperature  = np.array([5, 8, 11, 13, 18, 24, 24, 28, 32, 36])\n",
        "solar_output = np.array([2.2, 1.8, 2.5, 3.0, 4.5, 5.3, 5.8, 4.2, 2.5, 4.0])\n",
        "\n",
        "# Creating the scatter plot\n",
        "plt.scatter(average_temperature , solar_output)\n",
        "plt.xlabel('Average temperature')\n",
        "plt.ylabel('Solar Panel Output (kWh)')\n",
        "plt.title('Average temperature vs. Solar panel output')\n",
        "plt.show()\n"
      ]
    },
    {
      "cell_type": "markdown",
      "id": "1fbdb88a",
      "metadata": {
        "id": "1fbdb88a"
      },
      "source": [
        "Looking at the scatter plot, it seems that there is not a linear relationship between the average temperature of a day and the energy produced by solar panels. This could be because other factors that we haven't accounted for are having an impact on the energy produced, such as clouds. This means that a linear regression model will not be a good fit for our data."
      ]
    },
    {
      "cell_type": "markdown",
      "id": "a10363b6",
      "metadata": {
        "id": "a10363b6"
      },
      "source": [
        "### Exercise 2\n",
        "\n",
        "- The code converts the lists of `annual_rainfall` and `agricultural_yield` into NumPy arrays for compatibility with sklearn's `LinearRegression` model. The `reshape(-1, 1)` is applied to annual rainfall to convert it from a 1D array to a 2D array because `sklearn` expects `X` (features) to be a 2D array.\n",
        "- A `LinearRegression` model is instantiated and fitted to the data with `.fit()`, modelling the relationship between rainfall and yield.\n",
        "- `.predict()` is used to estimate the yield for a specific value of rainfall (`1150` mm), demonstrating how the model can be used to make predictions based on new input data.\n",
        "- The predicted yield is printed, providing actionable insights based on the model."
      ]
    },
    {
      "cell_type": "code",
      "execution_count": null,
      "id": "09386d51",
      "metadata": {
        "id": "09386d51"
      },
      "outputs": [],
      "source": [
        "import numpy as np\n",
        "from sklearn.linear_model import LinearRegression\n",
        "\n",
        "# Data arrays\n",
        "annual_rainfall = np.array([800, 1200, 1000, 1500, 1100, 1300, 900, 1400, 950, 1250]).reshape(-1, 1)\n",
        "agricultural_yield = np.array([3.2, 4.8, 4.0, 5.5, 4.2, 5.0, 3.5, 5.3, 3.8, 4.9])\n",
        "\n",
        "# Fitting the model\n",
        "model = LinearRegression()\n",
        "model.fit(annual_rainfall, agricultural_yield)\n",
        "\n",
        "# Predicting for 1150 mm of annual rainfall\n",
        "predicted_yield = model.predict(np.array([[1150]]))\n",
        "print(f'Predicted agricultural yield for 1150 mm of annual rainfall: {predicted_yield[0]:.2f} tons per hectare')\n"
      ]
    },
    {
      "cell_type": "markdown",
      "metadata": {
        "id": "5ioQqW2c09zo"
      },
      "source": [
        "### Exercise 3\n",
        "\n",
        "- The code first fits a linear regression model to the traffic volume and pollution level data (similar to the previous exercise).\n",
        "- After fitting the model, it uses the model to predict pollution levels based on the observed traffic volumes.\n",
        "- It calculates the mean squared error (MSE) and R-squared value using sklearn's `mean_squared_error `and `r2_score` functions. These metrics are essential for evaluating the performance of the regression model, helping to understand its accuracy and predictive power.\n",
        "    - MSE provides a measure of the average squared difference between observed and predicted values, indicating the model's accuracy. A lower MSE indicates a better fit.\n",
        "    - The R-squared value measures the proportion of the variance in the dependent variable that is predictable from the independent variable. It ranges from 0 to 1, with higher values indicating a better fit.\n"
      ],
      "id": "5ioQqW2c09zo"
    },
    {
      "cell_type": "code",
      "execution_count": null,
      "metadata": {
        "id": "SZG_yznt09zo"
      },
      "outputs": [],
      "source": [
        "import numpy as np\n",
        "from sklearn.linear_model import LinearRegression\n",
        "from sklearn.metrics import mean_squared_error, r2_score\n",
        "\n",
        "# Data arrays\n",
        "traffic_volume = np.array([1500, 2500, 2000, 3000, 3500, 1800, 4000, 2200, 2800, 3200]).reshape(-1, 1)\n",
        "pollution_levels = np.array([35, 50, 45, 60, 65, 38, 70, 48, 55, 62])\n",
        "\n",
        "# Fitting the model\n",
        "model = LinearRegression()\n",
        "model.fit(traffic_volume, pollution_levels)\n",
        "\n",
        "# Making predictions\n",
        "predictions = model.predict(traffic_volume)\n",
        "\n",
        "# Calculating MSE and R-squared\n",
        "mse = mean_squared_error(pollution_levels, predictions)\n",
        "r_squared = r2_score(pollution_levels, predictions)\n",
        "\n",
        "print(f'Mean Squared Error: {mse:.2f}')\n",
        "print(f'R-squared: {r_squared:.2f}')"
      ],
      "id": "SZG_yznt09zo"
    },
    {
      "cell_type": "markdown",
      "id": "26fd094b-0fee-46f1-a4b8-73766813c42b",
      "metadata": {
        "tags": [],
        "id": "26fd094b-0fee-46f1-a4b8-73766813c42b"
      },
      "source": [
        "#  \n",
        "\n",
        "<div align=\"center\" style=\" font-size: 80%; text-align: center; margin: 0 auto\">\n",
        "<img src=\"https://raw.githubusercontent.com/Explore-AI/Pictures/master/ExploreAI_logos/EAI_Blue_Dark.png\"  style=\"width:200px\";/>\n",
        "</div>"
      ]
    }
  ],
  "metadata": {
    "kernelspec": {
      "display_name": "Python 3 (ipykernel)",
      "language": "python",
      "name": "python3"
    },
    "language_info": {
      "codemirror_mode": {
        "name": "ipython",
        "version": 3
      },
      "file_extension": ".py",
      "mimetype": "text/x-python",
      "name": "python",
      "nbconvert_exporter": "python",
      "pygments_lexer": "ipython3",
      "version": "3.11.5"
    },
    "colab": {
      "provenance": [],
      "include_colab_link": true
    }
  },
  "nbformat": 4,
  "nbformat_minor": 5
}