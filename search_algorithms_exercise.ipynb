{
  "cells": [
    {
      "cell_type": "markdown",
      "metadata": {
        "id": "view-in-github",
        "colab_type": "text"
      },
      "source": [
        "<a href=\"https://colab.research.google.com/github/Samuel-kjkj/DS-study-notebooks/blob/main/search_algorithms_exercise.ipynb\" target=\"_parent\"><img src=\"https://colab.research.google.com/assets/colab-badge.svg\" alt=\"Open In Colab\"/></a>"
      ]
    },
    {
      "cell_type": "markdown",
      "metadata": {
        "id": "Ee-v8I_P8rfp"
      },
      "source": [
        "<div align=\"center\" style=\" font-size: 80%; text-align: center; margin: 0 auto\">\n",
        "<img src=\"https://raw.githubusercontent.com/Explore-AI/Pictures/master/Python-Notebook-Banners/Exercise.png\"  style=\"display: block; margin-left: auto; margin-right: auto;\";/>\n",
        "</div>\n",
        "\n",
        "# Exercise: Search Algorithms\n",
        "© ExploreAI Academy\n",
        "\n",
        "In this exercise, we will reinforce our knowledge of the fundamental concepts of search algorithms through a series of practical exercises.\n"
      ]
    },
    {
      "cell_type": "markdown",
      "metadata": {
        "id": "ITqrvAqq8xSC"
      },
      "source": [
        "## Learning objectives\n",
        "\n",
        "By the end of this train, you should be able to:\n",
        "* Implement linear and binary search algorithms.\n"
      ]
    },
    {
      "cell_type": "markdown",
      "metadata": {
        "id": "VIWSkZuhzD8i"
      },
      "source": [
        "## Exercises"
      ]
    },
    {
      "cell_type": "markdown",
      "metadata": {
        "id": "vgyNXwbYzD8j"
      },
      "source": [
        "### Exercise 1"
      ]
    },
    {
      "cell_type": "markdown",
      "metadata": {
        "id": "qwMKIXrJzD8k"
      },
      "source": [
        "Using the below pseudocode as a guide for implementation. Write a basic linear search function.\n",
        "\n",
        "```python\n",
        "# Pseudocode\n",
        "procedure linear_search( list, target )\n",
        "    for each element in the list\n",
        "        if the element equals the target\n",
        "            return its index\n",
        "\n",
        "    return not found\n",
        "end procedure\n",
        "```"
      ]
    },
    {
      "cell_type": "code",
      "execution_count": 13,
      "metadata": {
        "id": "bTWQpsgszD8l"
      },
      "outputs": [],
      "source": [
        "# Your solution here...\n",
        "def procedure_linear_search(my_list, target_value):\n",
        "  for i in range(len(my_list)):\n",
        "    if my_list[i] == target_value:\n",
        "      return my_list.index(target_value)\n",
        "  return 'Not Found'"
      ]
    },
    {
      "cell_type": "markdown",
      "metadata": {
        "id": "g5GPcp5AzD8n"
      },
      "source": [
        "Given the below data, use the `linear_search` function to search for the target value.\n",
        "\n",
        "`my_list = [1, 3, 5, 7, 9]`\n",
        "\n",
        "`target_value = 5`"
      ]
    },
    {
      "cell_type": "code",
      "execution_count": 15,
      "metadata": {
        "colab": {
          "base_uri": "https://localhost:8080/"
        },
        "id": "PzeQc2k4zD8p",
        "outputId": "8acfc146-407a-44cb-816f-2f0ed92db873"
      },
      "outputs": [
        {
          "output_type": "execute_result",
          "data": {
            "text/plain": [
              "5"
            ]
          },
          "metadata": {},
          "execution_count": 15
        }
      ],
      "source": [
        "# Your solution here...\n",
        "my_list=[1, 3, 5, 7, 9, 10]\n",
        "target_value = 10\n",
        "procedure_linear_search(my_list, target_value)"
      ]
    },
    {
      "cell_type": "markdown",
      "metadata": {
        "id": "QbkIUhyjzD8q"
      },
      "source": [
        "### Exercise 2\n",
        "\n",
        "Naturally, we can adapt the linear search algorithm to return all the occurrences and/or count the number of occurrences by adding a running counter and moving the return statement.\n",
        "\n",
        "Write a linear search function that counts the number of occurrences of a searched item."
      ]
    },
    {
      "cell_type": "code",
      "execution_count": 21,
      "metadata": {
        "id": "mm1mSNlXzD8s"
      },
      "outputs": [],
      "source": [
        "# Your solution here...\n",
        "def target_occurances(my_list, target_value):\n",
        "  occurance_counter = 0\n",
        "  for i in range(len(my_list)):\n",
        "    if my_list[i] == target_value:\n",
        "      occurance_counter += 1\n",
        "  return occurance_counter"
      ]
    },
    {
      "cell_type": "markdown",
      "metadata": {
        "id": "IlmsnhGkzD8t"
      },
      "source": [
        "Count the number of times the target value appears in the list below.\n",
        "\n",
        "`my_list = [1, 3, 5, 3, 7, 9, 3]`\n",
        "\n",
        "`target_value = 3`\n"
      ]
    },
    {
      "cell_type": "code",
      "execution_count": 23,
      "metadata": {
        "colab": {
          "base_uri": "https://localhost:8080/"
        },
        "id": "berIcb1DzD8t",
        "outputId": "e471787c-1fba-4280-eab7-a5a964b6aa14"
      },
      "outputs": [
        {
          "output_type": "execute_result",
          "data": {
            "text/plain": [
              "1"
            ]
          },
          "metadata": {},
          "execution_count": 23
        }
      ],
      "source": [
        "# Your solution here...\n",
        "my_list = [1, 3, 5, 3, 7, 9, 3]\n",
        "target_value = 5\n",
        "\n",
        "\n",
        "target_occurances(my_list, target_value)"
      ]
    },
    {
      "cell_type": "markdown",
      "metadata": {
        "id": "SADxlCOczD8v"
      },
      "source": [
        "### Exercise 3"
      ]
    },
    {
      "cell_type": "markdown",
      "metadata": {
        "id": "-FT14YQ0zD8w"
      },
      "source": [
        "Using the below pseudocode as a guide for implementation. Write a basic recursive implementation of a binary search function.\n",
        "\n",
        "```python\n",
        "# Pseudocode\n",
        "procedure binary_search_recur( list items, target )\n",
        "\n",
        "    find the midpoint of items\n",
        "\n",
        "    if length of items == 1 then\n",
        "        return midpoint if midpoint is equal to the target value, otherwise return False\n",
        "    else if midpoint item == target\n",
        "        return midpoint\n",
        "    else\n",
        "        # Recursively divide the sublists further.\n",
        "        if midpoint item < target\n",
        "            call binary_search_recur on right side sublist and target value\n",
        "            return midpoint + call if the call is not False, otherwise return False\n",
        "        else\n",
        "            return call binary_search_recur on left side sublist and target value\n",
        "end procedure\n",
        "```"
      ]
    },
    {
      "cell_type": "code",
      "execution_count": 25,
      "metadata": {
        "id": "5WQnhtZzzD8x"
      },
      "outputs": [],
      "source": [
        "# Your solution here...\n",
        "def binary_search_recur(my_list, target_value):\n",
        "  midpoint = len(my_list) // 2\n",
        "\n",
        "  if len(my_list) ==  1:\n",
        "    if my_list[midpoint] == target_value:\n",
        "      return midpoint\n",
        "    else:\n",
        "      return 'False'\n",
        "  elif my_list[midpoint] == target_value:\n",
        "    return midpoint\n",
        "  else:\n",
        "    if my_list[midpoint] < target_value:\n",
        "      return binary_search_recur(my_list[midpoint + 1:], target_value)\n",
        "    else:\n",
        "      return binary_search_recur(my_list[:midpoint], target_value)"
      ]
    },
    {
      "cell_type": "markdown",
      "metadata": {
        "id": "9BzcUGmvzD8x"
      },
      "source": [
        "Given the below data, use the `binary_search_recur` function to search for the target value.\n",
        "\n",
        "`my_list = [1, 3, 5, 7, 9, 11, 13, 15, 17]`\n",
        "\n",
        "`target_value = 13`"
      ]
    },
    {
      "cell_type": "code",
      "execution_count": 28,
      "metadata": {
        "colab": {
          "base_uri": "https://localhost:8080/"
        },
        "id": "KtRc3oTnzD8y",
        "outputId": "7c13a7a1-ac03-43ab-a4b0-8fcd31f6cc88"
      },
      "outputs": [
        {
          "output_type": "execute_result",
          "data": {
            "text/plain": [
              "2"
            ]
          },
          "metadata": {},
          "execution_count": 28
        }
      ],
      "source": [
        "my_list = [1, 3, 5, 7, 9, 11, 13, 15, 17]\n",
        "\n",
        "target_value = 15\n",
        "# Your solution here...\n",
        "binary_search_recur(my_list, target_value)"
      ]
    },
    {
      "cell_type": "markdown",
      "metadata": {
        "id": "O2THv0gtzD8y"
      },
      "source": [
        "### Exercise 4\n",
        "\n",
        "Using the below pseudocode as a guide for implementation. Write a basic iterative implementation of a binary search function.\n",
        "\n",
        "```python\n",
        "# Pseudocode\n",
        "procedure binary_search_iter( list items, target )\n",
        "\n",
        "    initialise start value as zero\n",
        "    initialise end value as length(items) - 1\n",
        "\n",
        "    while start value <= end value then continue\n",
        "        mid value = (start + end) divided by 2 (floor division)\n",
        "\n",
        "        if target == mid item then\n",
        "            return mid value\n",
        "\n",
        "        if target < mid item then\n",
        "            end = mid - 1\n",
        "        else then\n",
        "            start = mid + 1\n",
        "\n",
        "    return when not found as False\n",
        "end procedure\n",
        "```"
      ]
    },
    {
      "cell_type": "code",
      "execution_count": 54,
      "metadata": {
        "id": "XtQ24kzIzD8z"
      },
      "outputs": [],
      "source": [
        "# Your solution here...\n",
        "def binary_search_iter(my_list, target_value):\n",
        "  start_value = 0\n",
        "  end_value = len(my_list) - 1\n",
        "\n",
        "  while start_value <= end_value:\n",
        "    midpoint = (start_value + end_value) // 2\n",
        "\n",
        "    if target_value == my_list[midpoint]:\n",
        "      return midpoint\n",
        "    else:\n",
        "      if target_value < my_list[midpoint]:\n",
        "        end_value = midpoint - 1\n",
        "      else:\n",
        "        start_value = midpoint + 1\n"
      ]
    },
    {
      "cell_type": "markdown",
      "metadata": {
        "id": "8mBE4p5MzD8z"
      },
      "source": [
        "Given the below data, use the `binary_search_iter` function to search for the target value.\n",
        "\n",
        "`my_list = [1, 3, 5, 7, 9, 11, 13, 15, 17]`\n",
        "\n",
        "`target_value = 13`"
      ]
    },
    {
      "cell_type": "code",
      "execution_count": 55,
      "metadata": {
        "colab": {
          "base_uri": "https://localhost:8080/"
        },
        "id": "_H3C1QGOzD80",
        "outputId": "b57ad764-8403-4578-9953-132a5d13a2c7"
      },
      "outputs": [
        {
          "output_type": "execute_result",
          "data": {
            "text/plain": [
              "6"
            ]
          },
          "metadata": {},
          "execution_count": 55
        }
      ],
      "source": [
        "# Your solution here...\n",
        "my_list = [1, 3, 5, 7, 9, 11, 13, 15, 17]\n",
        "\n",
        "target_value = 13\n",
        "\n",
        "binary_search_iter(my_list, target_value)"
      ]
    },
    {
      "cell_type": "markdown",
      "metadata": {
        "id": "BwKs3i3DzD80"
      },
      "source": [
        "## Solutions"
      ]
    },
    {
      "cell_type": "markdown",
      "metadata": {
        "id": "bHffKAiWzD80"
      },
      "source": [
        "### Exercise 1"
      ]
    },
    {
      "cell_type": "code",
      "execution_count": null,
      "metadata": {
        "id": "HBjNVJfazD81"
      },
      "outputs": [],
      "source": [
        "def linear_search(lst, target):\n",
        "    for index, element in enumerate(lst):\n",
        "        if element == target:\n",
        "            return index\n",
        "\n",
        "    return -1  # return the last element if not found"
      ]
    },
    {
      "cell_type": "code",
      "execution_count": null,
      "metadata": {
        "id": "CGbfo3ruzD81"
      },
      "outputs": [],
      "source": [
        "my_list = [1, 3, 5, 7, 9]\n",
        "target_value = 5\n",
        "\n",
        "linear_search(my_list, target_value)"
      ]
    },
    {
      "cell_type": "markdown",
      "metadata": {
        "id": "ZQexjfZYzD82"
      },
      "source": [
        "In this solution, the linear_search function takes a list (`lst`) and a target value (`target`). It iterates through each element in the list using enumerate, checks if the current element is equal to the target, and returns the index if a match is found. If no match is found after the loop, it returns -1 to indicate that the target is not present in the list."
      ]
    },
    {
      "cell_type": "markdown",
      "metadata": {
        "id": "Ygh38TsXzD82"
      },
      "source": [
        "### Exercise 2"
      ]
    },
    {
      "cell_type": "code",
      "execution_count": null,
      "metadata": {
        "id": "lqQJ0IcpzD82"
      },
      "outputs": [],
      "source": [
        "def linear_search_count(lst, target):\n",
        "    count = 0\n",
        "\n",
        "    for element in lst:\n",
        "        if element == target:\n",
        "            count += 1\n",
        "\n",
        "    return count"
      ]
    },
    {
      "cell_type": "code",
      "execution_count": null,
      "metadata": {
        "id": "9j3D0tc9zD83"
      },
      "outputs": [],
      "source": [
        "my_list = [1, 3, 5, 3, 7, 9, 3]\n",
        "target_value = 3\n",
        "\n",
        "linear_search_count(my_list, target_value)"
      ]
    },
    {
      "cell_type": "markdown",
      "metadata": {
        "id": "fcGK51JpzD83"
      },
      "source": [
        "In this version, a count variable is initialized to 0 before the loop. Inside the loop, whenever the current element matches the target, the count is incremented. After the loop, the function returns the final count, indicating how many times the target appears in the list."
      ]
    },
    {
      "cell_type": "markdown",
      "metadata": {
        "id": "-rGUJwv5zD84"
      },
      "source": [
        "### Exercise 3"
      ]
    },
    {
      "cell_type": "code",
      "execution_count": null,
      "metadata": {
        "id": "rGJ-m8frzD84"
      },
      "outputs": [],
      "source": [
        "def binary_search_recur(items, target):\n",
        "\n",
        "    mid = len(items) // 2\n",
        "\n",
        "    if len(items) == 1:\n",
        "        return mid if items[mid] == target else False\n",
        "    elif items[mid] == target:\n",
        "        return mid\n",
        "    else:\n",
        "        if items[mid] < target:\n",
        "            callback_response = binary_search_recur(items[mid:], target)\n",
        "            return mid + callback_response if callback_response is not False else False\n",
        "        else:\n",
        "            return binary_search_recur(items[:mid], target)\n",
        "\n"
      ]
    },
    {
      "cell_type": "code",
      "execution_count": null,
      "metadata": {
        "id": "Eilvd6rlzD86"
      },
      "outputs": [],
      "source": [
        "my_list = [1, 3, 5, 7, 9, 11, 13, 15, 17]\n",
        "target_value = 13\n",
        "\n",
        "binary_search_recur(my_list, target_value)"
      ]
    },
    {
      "cell_type": "markdown",
      "metadata": {
        "id": "lY6A0PPUzD86"
      },
      "source": [
        "This function `binary_search_recur` takes a sorted list (`items`) and a target value (`target`). It recursively searches for the target in the list, dividing it into halves and narrowing down the search space based on the comparison with the midpoint. If the target is found, it returns the index; otherwise, it returns False."
      ]
    },
    {
      "cell_type": "markdown",
      "metadata": {
        "id": "wftjBeJPzD87"
      },
      "source": [
        "### Exercise 4"
      ]
    },
    {
      "cell_type": "code",
      "execution_count": null,
      "metadata": {
        "id": "rorZRLk1zD87"
      },
      "outputs": [],
      "source": [
        "def binary_search_iter(items, target):\n",
        "    start = 0\n",
        "    end = len(items) - 1\n",
        "\n",
        "    while start <= end:\n",
        "        mid = (start + end) // 2\n",
        "\n",
        "        if items[mid] == target:\n",
        "            return mid\n",
        "\n",
        "        if target < items[mid]:\n",
        "            end = mid - 1\n",
        "        else:\n",
        "            start = mid + 1\n",
        "\n",
        "    return False"
      ]
    },
    {
      "cell_type": "code",
      "execution_count": null,
      "metadata": {
        "id": "JZj-59zOzD88"
      },
      "outputs": [],
      "source": [
        "my_list = [1, 3, 5, 7, 9, 11, 13, 15, 17]\n",
        "target_value = 13\n",
        "\n",
        "binary_search_iter(my_list, target_value)"
      ]
    },
    {
      "cell_type": "markdown",
      "metadata": {
        "id": "RzmQpBbZzD88"
      },
      "source": [
        "This function `binary_search_iter` takes a sorted list (`items`) and a target value (`target`). It iteratively searches for the target in the list by adjusting the start and end indices based on the comparison with the midpoint. If the target is found, it returns the index; otherwise, it returns False."
      ]
    },
    {
      "cell_type": "markdown",
      "metadata": {
        "id": "6qpL1tNFzD89"
      },
      "source": [
        "<div align=\"center\" style=\" font-size: 80%; text-align: center; margin: 0 auto\">\n",
        "<img src=\"https://raw.githubusercontent.com/Explore-AI/Pictures/master/ExploreAI_logos/EAI_Blue_Dark.png\"  style=\"width:200px\";/>\n",
        "</div>"
      ]
    }
  ],
  "metadata": {
    "colab": {
      "provenance": [],
      "include_colab_link": true
    },
    "interpreter": {
      "hash": "6b5ebbc2c6bde2831bc6c0426f75aca8137ccfc69d329557556ed73faee126ae"
    },
    "kernelspec": {
      "display_name": "Python 3",
      "language": "python",
      "name": "python3"
    },
    "language_info": {
      "codemirror_mode": {
        "name": "ipython",
        "version": 3
      },
      "file_extension": ".py",
      "mimetype": "text/x-python",
      "name": "python",
      "nbconvert_exporter": "python",
      "pygments_lexer": "ipython3",
      "version": "3.11.4"
    }
  },
  "nbformat": 4,
  "nbformat_minor": 0
}