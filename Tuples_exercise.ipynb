{
  "cells": [
    {
      "cell_type": "markdown",
      "metadata": {
        "id": "view-in-github",
        "colab_type": "text"
      },
      "source": [
        "<a href=\"https://colab.research.google.com/github/Samuel-kjkj/DS-study-notebooks/blob/main/Tuples_exercise.ipynb\" target=\"_parent\"><img src=\"https://colab.research.google.com/assets/colab-badge.svg\" alt=\"Open In Colab\"/></a>"
      ]
    },
    {
      "cell_type": "markdown",
      "id": "1a8f72ba",
      "metadata": {
        "id": "1a8f72ba"
      },
      "source": [
        "<div align=\"center\" style=\" font-size: 80%; text-align: center; margin: 0 auto\">\n",
        "<img src=\"https://raw.githubusercontent.com/Explore-AI/Pictures/master/Python-Notebook-Banners/Exercise.png\"  style=\"display: block; margin-left: auto; margin-right: auto;\";/>\n",
        "</div>"
      ]
    },
    {
      "cell_type": "markdown",
      "id": "f662d169",
      "metadata": {
        "id": "f662d169"
      },
      "source": [
        "# Exercise: Tuples\n",
        "© ExploreAI Academy"
      ]
    },
    {
      "cell_type": "markdown",
      "id": "3fffe403",
      "metadata": {
        "id": "3fffe403"
      },
      "source": [
        "In this exercise, we are going to solve problems involving tuples."
      ]
    },
    {
      "cell_type": "markdown",
      "id": "2d230d14",
      "metadata": {
        "tags": [],
        "id": "2d230d14"
      },
      "source": [
        "## Learning objectives\n",
        "\n",
        "- Create, concatenate, and slice tuples.\n",
        "- Make use of tuple methods.\n",
        "- Unpack a tuple."
      ]
    },
    {
      "cell_type": "markdown",
      "id": "6d305bd2",
      "metadata": {
        "id": "6d305bd2"
      },
      "source": [
        "## Exercises"
      ]
    },
    {
      "cell_type": "markdown",
      "id": "5a0b7683",
      "metadata": {
        "tags": [],
        "id": "5a0b7683"
      },
      "source": [
        "### Exercise 1\n",
        "\n",
        "1. Create a tuple named `tree_tuple` containing three elements: `8`, `'apple'`, and `'Granny Smith'`.\n"
      ]
    },
    {
      "cell_type": "code",
      "execution_count": 2,
      "id": "ca40207e",
      "metadata": {
        "vscode": {
          "languageId": "plaintext"
        },
        "id": "ca40207e"
      },
      "outputs": [],
      "source": [
        "# insert your code here\n",
        "tree_tuple=(8, \"apple\", \"Granny Smith\")\n"
      ]
    },
    {
      "cell_type": "markdown",
      "id": "5f37ca4c",
      "metadata": {
        "id": "5f37ca4c"
      },
      "source": [
        "Note: We can use the `type()` function to check that `tree_tuple` is, in fact, a tuple."
      ]
    },
    {
      "cell_type": "markdown",
      "id": "fb6d5acd",
      "metadata": {
        "id": "fb6d5acd"
      },
      "source": [
        "<br>\n",
        "\n",
        "2. Find the length of the tuple.\n"
      ]
    },
    {
      "cell_type": "code",
      "execution_count": 5,
      "id": "0b5ccea5",
      "metadata": {
        "colab": {
          "base_uri": "https://localhost:8080/"
        },
        "id": "0b5ccea5",
        "outputId": "8d500601-271f-42cd-e648-3aef1811d41b"
      },
      "outputs": [
        {
          "output_type": "stream",
          "name": "stdout",
          "text": [
            "3\n"
          ]
        }
      ],
      "source": [
        "# insert your code here\n",
        "tree_tuple_lenght= len(tree_tuple)\n",
        "print(tree_tuple_lenght)"
      ]
    },
    {
      "cell_type": "markdown",
      "id": "83911c8e",
      "metadata": {
        "id": "83911c8e"
      },
      "source": [
        "<br>\n",
        "\n",
        "3. Access the second element, `'apple'`, in the `tree_tuple` using an index and assign the value to a variable called `fruit`. Print the variable."
      ]
    },
    {
      "cell_type": "code",
      "execution_count": 14,
      "id": "52f5bc48",
      "metadata": {
        "colab": {
          "base_uri": "https://localhost:8080/"
        },
        "id": "52f5bc48",
        "outputId": "783436ea-95c3-4cf5-bf92-a4c473b904b8"
      },
      "outputs": [
        {
          "output_type": "stream",
          "name": "stdout",
          "text": [
            "1\n",
            "apple\n"
          ]
        }
      ],
      "source": [
        "# insert your code here\n",
        "wanted_index = tree_tuple.index(\"apple\")\n",
        "print(wanted_index)\n",
        "\n",
        "fruit = tree_tuple[1]\n",
        "print(fruit)\n"
      ]
    },
    {
      "cell_type": "markdown",
      "id": "ab6f589c",
      "metadata": {
        "id": "ab6f589c"
      },
      "source": [
        "<br>\n",
        "\n",
        "4. Attempt to change the value of `'apple'` in `tree_tuple` to `'pear'` using assignment.\n"
      ]
    },
    {
      "cell_type": "code",
      "execution_count": 15,
      "id": "0eb3a78f",
      "metadata": {
        "colab": {
          "base_uri": "https://localhost:8080/",
          "height": 210
        },
        "id": "0eb3a78f",
        "outputId": "89971835-1830-4b0a-e8e4-95bea2a5742f"
      },
      "outputs": [
        {
          "output_type": "error",
          "ename": "TypeError",
          "evalue": "'tuple' object does not support item assignment",
          "traceback": [
            "\u001b[0;31m---------------------------------------------------------------------------\u001b[0m",
            "\u001b[0;31mTypeError\u001b[0m                                 Traceback (most recent call last)",
            "\u001b[0;32m<ipython-input-15-ec91a1f83e0a>\u001b[0m in \u001b[0;36m<cell line: 2>\u001b[0;34m()\u001b[0m\n\u001b[1;32m      1\u001b[0m \u001b[0;31m# insert your code here\u001b[0m\u001b[0;34m\u001b[0m\u001b[0;34m\u001b[0m\u001b[0m\n\u001b[0;32m----> 2\u001b[0;31m \u001b[0mtree_tuple\u001b[0m\u001b[0;34m[\u001b[0m\u001b[0;36m1\u001b[0m\u001b[0;34m]\u001b[0m \u001b[0;34m=\u001b[0m \u001b[0;34m\"pear\"\u001b[0m\u001b[0;34m\u001b[0m\u001b[0;34m\u001b[0m\u001b[0m\n\u001b[0m\u001b[1;32m      3\u001b[0m \u001b[0;34m\u001b[0m\u001b[0m\n",
            "\u001b[0;31mTypeError\u001b[0m: 'tuple' object does not support item assignment"
          ]
        }
      ],
      "source": [
        "# insert your code here\n",
        "tree_tuple[1] = \"pear\"\n",
        "\n"
      ]
    },
    {
      "cell_type": "markdown",
      "id": "ed3af8cf",
      "metadata": {
        "id": "ed3af8cf"
      },
      "source": [
        " If you got an error, it's exactly what should happen! **Tuples are immutable** and we cannot alter their contents after creation.\n",
        "   \n",
        ""
      ]
    },
    {
      "cell_type": "markdown",
      "id": "9d80cde9",
      "metadata": {
        "id": "9d80cde9"
      },
      "source": [
        "<br>\n",
        "\n",
        "5. Create a new tuple called `text_only` and place the last two elements of `tree_tuple` into it."
      ]
    },
    {
      "cell_type": "code",
      "execution_count": 28,
      "id": "21fbb221",
      "metadata": {
        "colab": {
          "base_uri": "https://localhost:8080/"
        },
        "id": "21fbb221",
        "outputId": "e4b0cbdf-b7fd-43fe-8513-de1bca7bd04a"
      },
      "outputs": [
        {
          "output_type": "stream",
          "name": "stdout",
          "text": [
            "('apple', 'Granny Smith')\n"
          ]
        }
      ],
      "source": [
        "# insert your code here\n",
        "text_only = tree_tuple[1:3]\n",
        "print(text_only)\n",
        "\n"
      ]
    },
    {
      "cell_type": "markdown",
      "id": "5e148cac",
      "metadata": {
        "id": "5e148cac"
      },
      "source": [
        "<br>\n",
        "\n",
        "### Exercise 2\n",
        "\n",
        "1. Create two tuples: `fruit_summer` and `fruit_winter`, with elements (`'peach'`, `'apricot'`, `'plum'`) and (`'lemon'`, `'orange'`, `'grapefruit'`), respectively. Print the tuples to screen in the same print statement.\n"
      ]
    },
    {
      "cell_type": "code",
      "execution_count": 32,
      "id": "6aad0f85",
      "metadata": {
        "vscode": {
          "languageId": "plaintext"
        },
        "colab": {
          "base_uri": "https://localhost:8080/"
        },
        "id": "6aad0f85",
        "outputId": "932162e7-7495-4a64-c84b-9be7a5f03390"
      },
      "outputs": [
        {
          "output_type": "stream",
          "name": "stdout",
          "text": [
            "('peach', 'apricot', 'plum') ('lemon', 'orange', 'grapefruit')\n"
          ]
        }
      ],
      "source": [
        "# insert your code here\n",
        "fruit_summer = (\"peach\", \"apricot\", \"plum\")\n",
        "fruit_winter = (\"lemon\", \"orange\", \"grapefruit\")\n",
        "\n",
        "print(fruit_summer, fruit_winter)"
      ]
    },
    {
      "cell_type": "markdown",
      "id": "7baad7aa",
      "metadata": {
        "id": "7baad7aa"
      },
      "source": [
        "<br>\n",
        "\n",
        "2. Combine these following two tuples, `fruit_summer` and `fruit_winter`, to form a new tuple, `all_fruit`. Print the new tuple to the screen."
      ]
    },
    {
      "cell_type": "code",
      "execution_count": 33,
      "id": "7dd8dce1",
      "metadata": {
        "colab": {
          "base_uri": "https://localhost:8080/"
        },
        "id": "7dd8dce1",
        "outputId": "7b73b705-b659-4c92-8d9a-9a0dfdc84bde"
      },
      "outputs": [
        {
          "output_type": "stream",
          "name": "stdout",
          "text": [
            "('peach', 'apricot', 'plum', 'lemon', 'orange', 'grapefruit')\n"
          ]
        }
      ],
      "source": [
        "# insert your code here\n",
        "all_fruit= fruit_summer + fruit_winter\n",
        "print(all_fruit)\n",
        "\n"
      ]
    },
    {
      "cell_type": "markdown",
      "id": "607ed006",
      "metadata": {
        "id": "607ed006"
      },
      "source": [
        "<br>\n",
        "\n",
        "3. Confirm how many times the element `'peach'` appears in `all_fruit`."
      ]
    },
    {
      "cell_type": "code",
      "execution_count": 35,
      "id": "5fa8890d",
      "metadata": {
        "colab": {
          "base_uri": "https://localhost:8080/"
        },
        "id": "5fa8890d",
        "outputId": "dc5e8cde-dada-43db-d41c-404e5e2b51fa"
      },
      "outputs": [
        {
          "output_type": "stream",
          "name": "stdout",
          "text": [
            "1\n"
          ]
        }
      ],
      "source": [
        "# insert your code here\n",
        "peach_count = all_fruit.count(\"peach\")\n",
        "print(peach_count)\n"
      ]
    },
    {
      "cell_type": "markdown",
      "id": "616c87fe",
      "metadata": {
        "id": "616c87fe"
      },
      "source": [
        "<br>\n",
        "\n",
        "4. Suppose we have the `combined_info` tuple shown in the block of code below, containing three elements – the colour of the fruit, the age of the tree, and the type of tree. We'd however like to work with these elements individually and need to create variables (colour, age, tree_type) for each of the elements in the tuple.  "
      ]
    },
    {
      "cell_type": "code",
      "execution_count": 36,
      "id": "ae5c21c1",
      "metadata": {
        "colab": {
          "base_uri": "https://localhost:8080/"
        },
        "id": "ae5c21c1",
        "outputId": "2a55db10-b4a5-45fc-aef0-1eb7796796b0"
      },
      "outputs": [
        {
          "output_type": "stream",
          "name": "stdout",
          "text": [
            "yellow 5 lemon\n"
          ]
        }
      ],
      "source": [
        "# combined_info tuple\n",
        "combined_info = ('yellow', 5, 'lemon')\n",
        "\n",
        "# insert your code here\n",
        "colour, age, tree_type = combined_info\n",
        "\n",
        "print(colour, age, tree_type)"
      ]
    },
    {
      "cell_type": "markdown",
      "id": "68a84035",
      "metadata": {
        "id": "68a84035"
      },
      "source": [
        "Did you use an index to assign the values to variables? If so, also take a look at the solution provided later in this notebook for a fast way of assigning tuple elements to variables!"
      ]
    },
    {
      "cell_type": "markdown",
      "id": "fe04494e",
      "metadata": {
        "id": "fe04494e"
      },
      "source": [
        "<br>\n",
        "\n",
        "## Solutions"
      ]
    },
    {
      "cell_type": "markdown",
      "id": "6c41349e",
      "metadata": {
        "id": "6c41349e"
      },
      "source": [
        "### Exercise 1\n",
        "\n",
        "1. Create a tuple named `tree_tuple` containing three elements: `8`, `'apple'`, and `'Granny Smith'`.\n",
        "\n",
        "In order to create our tuple, we enclose the elements in **round brackets ()** and assign it to our variable."
      ]
    },
    {
      "cell_type": "code",
      "execution_count": null,
      "id": "8b8b08f6",
      "metadata": {
        "vscode": {
          "languageId": "plaintext"
        },
        "id": "8b8b08f6"
      },
      "outputs": [],
      "source": [
        "# assign value to the tree_tuple\n",
        "tree_tuple = (8, 'apple', 'Granny Smith')\n",
        "\n",
        "# see what it looks like printed\n",
        "print(tree_tuple)\n"
      ]
    },
    {
      "cell_type": "code",
      "execution_count": null,
      "id": "3e3b761d",
      "metadata": {
        "id": "3e3b761d"
      },
      "outputs": [],
      "source": [
        "# confirm that we have created a tuple using the `type()` function\n",
        "type(tree_tuple)"
      ]
    },
    {
      "cell_type": "markdown",
      "id": "24ee3fd8",
      "metadata": {
        "id": "24ee3fd8"
      },
      "source": [
        "<br>\n",
        "\n",
        "2. Find the length of the tuple.\n",
        "\n",
        "We can use one of the built-in functions Python provides, `len()`, to determine the number of elements in the tuple."
      ]
    },
    {
      "cell_type": "code",
      "execution_count": null,
      "id": "8efe03f8",
      "metadata": {
        "id": "8efe03f8"
      },
      "outputs": [],
      "source": [
        "len(tree_tuple)\n"
      ]
    },
    {
      "cell_type": "markdown",
      "id": "6ca8d7ce",
      "metadata": {
        "id": "6ca8d7ce"
      },
      "source": [
        "<br>\n",
        "\n",
        "3. Access the second element, `'apple'`, in the `tree_tuple` using an index and assign the value to a variable called `fruit`. Print the variable.\n",
        "\n",
        "The index for a tuple starts at 0, meaning that in order to access the 2nd element, we should refer to position 1 in the square brackets."
      ]
    },
    {
      "cell_type": "code",
      "execution_count": null,
      "id": "02f24ec0",
      "metadata": {
        "id": "02f24ec0"
      },
      "outputs": [],
      "source": [
        "fruit = tree_tuple[1]\n",
        "print(fruit)"
      ]
    },
    {
      "cell_type": "markdown",
      "id": "2aca53ff",
      "metadata": {
        "id": "2aca53ff"
      },
      "source": [
        "<br>\n",
        "\n",
        "4. Attempt to change the value of `'apple'` in `tree_tuple` to `'pear'` using assignment.\n",
        "\n",
        "If tuples were mutable, we would be able to assign a value to an index. However, as we can see in the error message below, **tuples do not support item assignment** because they are **immutable**. The only way to change the values in a tuple is to reassign all the values to the variable."
      ]
    },
    {
      "cell_type": "code",
      "execution_count": null,
      "id": "2def0376",
      "metadata": {
        "id": "2def0376"
      },
      "outputs": [],
      "source": [
        "tree_tuple[1] = 'pear'"
      ]
    },
    {
      "cell_type": "markdown",
      "id": "69d06228",
      "metadata": {
        "id": "69d06228"
      },
      "source": [
        "<br>\n",
        "\n",
        "5. Create a new tuple called `text_only` and place the last two elements of `tree_tuple` into it.\n",
        "\n",
        "Remember that the **first element** we want to include has an **index value of 1**, and as such, our index slice starts there.\n",
        "\n",
        "An easy way to check whether we sliced correctly is by subtracting the first part of our slice from the second `(3 minus 1)`, which is equal to two elements in the new tuple."
      ]
    },
    {
      "cell_type": "code",
      "execution_count": null,
      "id": "cf49efda",
      "metadata": {
        "id": "cf49efda"
      },
      "outputs": [],
      "source": [
        "# insert your code here\n",
        "text_only = tree_tuple[1:3]\n",
        "print(text_only)\n"
      ]
    },
    {
      "cell_type": "code",
      "execution_count": null,
      "id": "43343db6",
      "metadata": {
        "id": "43343db6"
      },
      "outputs": [],
      "source": [
        "# Another solution makes use of negative indexing, leaving the second element empty\n",
        "text_only = tree_tuple[-2:]\n",
        "print(text_only)"
      ]
    },
    {
      "cell_type": "markdown",
      "id": "c0b6b1b8",
      "metadata": {
        "id": "c0b6b1b8"
      },
      "source": [
        "<br>\n",
        "\n",
        "### Exercise 2\n",
        "\n",
        "1. Create two tuples: `fruit_summer` and `fruit_winter`, with elements (`'peach'`, `'apricot'`, `'plum'`) and (`'lemon'`, `'orange'`, `'grapefruit'`), respectively. Print the tuples to screen in the same print statement.\n",
        "\n",
        "We can print tuples in a single print statement to screen, and they'll be printed in the same line.\n"
      ]
    },
    {
      "cell_type": "code",
      "execution_count": null,
      "id": "82247504",
      "metadata": {
        "vscode": {
          "languageId": "plaintext"
        },
        "id": "82247504"
      },
      "outputs": [],
      "source": [
        "# assigning the elements to two tuples\n",
        "fruit_summer = ('peach', 'apricot', 'plum')\n",
        "fruit_winter = ('lemon', 'orange', 'grapefruit')\n",
        "\n",
        "print(fruit_summer, fruit_winter)"
      ]
    },
    {
      "cell_type": "markdown",
      "id": "82412a31",
      "metadata": {
        "id": "82412a31"
      },
      "source": [
        "<br>\n",
        "\n",
        "2. Combine these following two tuples, `fruit_summer` and `fruit_winter`, to form a new tuple, `all_fruit`. Print the new tuple to the screen.\n",
        "\n",
        "We can concatenate tuples in Python by using the `+` sign. The order in which the tuples are summed determines the order of the elements of the combined tuple."
      ]
    },
    {
      "cell_type": "code",
      "execution_count": null,
      "id": "aa020a80",
      "metadata": {
        "id": "aa020a80"
      },
      "outputs": [],
      "source": [
        "# concatenate using +\n",
        "all_fruit = fruit_summer + fruit_winter\n",
        "\n",
        "print(all_fruit)"
      ]
    },
    {
      "cell_type": "markdown",
      "id": "e8fef2c3",
      "metadata": {
        "id": "e8fef2c3"
      },
      "source": [
        "<br>\n",
        "\n",
        "3. Confirm how many times the element `'plum'` appears in `all_fruit`.\n",
        "\n",
        "We call the `count()` method to state which element we are interested in counting. This is a useful way to determine whether a tuple contains duplicates."
      ]
    },
    {
      "cell_type": "code",
      "execution_count": null,
      "id": "03c4f754",
      "metadata": {
        "id": "03c4f754"
      },
      "outputs": [],
      "source": [
        "# use count method on all_fruit tuple\n",
        "all_fruit.count('plum')\n"
      ]
    },
    {
      "cell_type": "markdown",
      "id": "de3a5406",
      "metadata": {
        "id": "de3a5406"
      },
      "source": [
        "<br>\n",
        "\n",
        "4. Suppose we have the `combined_info` tuple shown in the block of code below, containing three elements – the colour of the fruit, the age of the tree, and the type of tree. We'd however like to work with these elements individually and need to create variables (colour, age, tree_type) for each of the elements in the tuple.  \n",
        "\n"
      ]
    },
    {
      "cell_type": "code",
      "execution_count": null,
      "id": "33e49e27",
      "metadata": {
        "id": "33e49e27"
      },
      "outputs": [],
      "source": [
        "# combined_info tuple\n",
        "combined_info = ('yellow', 5, 'lemon')\n",
        "\n",
        "# insert your code here\n",
        "colour, age, tree_type = combined_info"
      ]
    },
    {
      "cell_type": "markdown",
      "id": "01f2a9c9",
      "metadata": {
        "id": "01f2a9c9"
      },
      "source": [
        "By assigning a tuple directly to the variables in a single line, you can skip repeating assignments and the need to index elements individually. Note that the order determines the assignment. This functionality will be especially useful when dealing with functions."
      ]
    },
    {
      "cell_type": "code",
      "execution_count": null,
      "id": "b09b9ba0",
      "metadata": {
        "id": "b09b9ba0"
      },
      "outputs": [],
      "source": [
        "print(colour, age, tree_type)"
      ]
    },
    {
      "cell_type": "code",
      "execution_count": null,
      "id": "e1ef209f",
      "metadata": {
        "id": "e1ef209f"
      },
      "outputs": [],
      "source": [
        "# the alternative, but longer solution\n",
        "colour_index = combined_info[0]\n",
        "age_index = combined_info[1]\n",
        "type_index = combined_info[2]\n",
        "\n",
        "print(colour_index, age_index, type_index)"
      ]
    },
    {
      "cell_type": "markdown",
      "id": "e9956efe",
      "metadata": {
        "tags": [],
        "id": "e9956efe"
      },
      "source": [
        "<br>\n",
        "\n",
        "## Summary\n",
        "\n",
        "Tuples are simple data structures and are especially useful when storing a **small number of elements** that need to be accessed during the course of a program. Remember to look at the Python documentation on tuples for more information and examples!"
      ]
    },
    {
      "cell_type": "markdown",
      "id": "26fd094b-0fee-46f1-a4b8-73766813c42b",
      "metadata": {
        "tags": [],
        "id": "26fd094b-0fee-46f1-a4b8-73766813c42b"
      },
      "source": [
        "#  \n",
        "\n",
        "<div align=\"center\" style=\" font-size: 80%; text-align: center; margin: 0 auto\">\n",
        "<img src=\"https://raw.githubusercontent.com/Explore-AI/Pictures/master/ExploreAI_logos/EAI_Blue_Dark.png\"  style=\"width:200px\";/>\n",
        "</div>"
      ]
    }
  ],
  "metadata": {
    "kernelspec": {
      "display_name": "Python 3 (ipykernel)",
      "language": "python",
      "name": "python3"
    },
    "language_info": {
      "codemirror_mode": {
        "name": "ipython",
        "version": 3
      },
      "file_extension": ".py",
      "mimetype": "text/x-python",
      "name": "python",
      "nbconvert_exporter": "python",
      "pygments_lexer": "ipython3",
      "version": "3.11.5"
    },
    "colab": {
      "provenance": [],
      "include_colab_link": true
    }
  },
  "nbformat": 4,
  "nbformat_minor": 5
}